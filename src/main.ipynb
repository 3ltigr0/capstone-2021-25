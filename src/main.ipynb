{
  "nbformat": 4,
  "nbformat_minor": 0,
  "metadata": {
    "colab": {
      "name": "tag_fidelity.ipynb의 사본",
      "provenance": [],
      "collapsed_sections": [],
      "toc_visible": true
    },
    "kernelspec": {
      "name": "python3",
      "display_name": "Python 3"
    },
    "language_info": {
      "name": "python"
    },
    "widgets": {
      "application/vnd.jupyter.widget-state+json": {
        "18a8ba07f0254ff6a84ff38baa5eae66": {
          "model_module": "@jupyter-widgets/controls",
          "model_name": "VBoxModel",
          "state": {
            "_view_name": "VBoxView",
            "_dom_classes": [],
            "_model_name": "VBoxModel",
            "_view_module": "@jupyter-widgets/controls",
            "_model_module_version": "1.5.0",
            "_view_count": null,
            "_view_module_version": "1.5.0",
            "box_style": "",
            "layout": "IPY_MODEL_09092908bd9f4355ad72b720150d14aa",
            "_model_module": "@jupyter-widgets/controls",
            "children": [
              "IPY_MODEL_82662242f9054855956e305b75e340be",
              "IPY_MODEL_bdefe46a007b4d76a15d60ed519dafa4",
              "IPY_MODEL_32e3043a38fc4c36a05a05ad32b71914"
            ]
          }
        },
        "09092908bd9f4355ad72b720150d14aa": {
          "model_module": "@jupyter-widgets/base",
          "model_name": "LayoutModel",
          "state": {
            "_view_name": "LayoutView",
            "grid_template_rows": null,
            "right": null,
            "justify_content": null,
            "_view_module": "@jupyter-widgets/base",
            "overflow": null,
            "_model_module_version": "1.2.0",
            "_view_count": null,
            "flex_flow": null,
            "width": null,
            "min_width": null,
            "border": null,
            "align_items": null,
            "bottom": null,
            "_model_module": "@jupyter-widgets/base",
            "top": null,
            "grid_column": null,
            "overflow_y": null,
            "overflow_x": null,
            "grid_auto_flow": null,
            "grid_area": null,
            "grid_template_columns": null,
            "flex": null,
            "_model_name": "LayoutModel",
            "justify_items": null,
            "grid_row": null,
            "max_height": null,
            "align_content": null,
            "visibility": null,
            "align_self": null,
            "height": null,
            "min_height": null,
            "padding": null,
            "grid_auto_rows": null,
            "grid_gap": null,
            "max_width": null,
            "order": null,
            "_view_module_version": "1.2.0",
            "grid_template_areas": null,
            "object_position": null,
            "object_fit": null,
            "grid_auto_columns": null,
            "margin": null,
            "display": null,
            "left": null
          }
        },
        "82662242f9054855956e305b75e340be": {
          "model_module": "@jupyter-widgets/controls",
          "model_name": "LabelModel",
          "state": {
            "_view_name": "LabelView",
            "style": "IPY_MODEL_a582b00a88bc41e99389da8b6c88c18c",
            "_dom_classes": [],
            "description": "",
            "_model_name": "LabelModel",
            "placeholder": "​",
            "_view_module": "@jupyter-widgets/controls",
            "_model_module_version": "1.5.0",
            "value": "기술 스택 (쉼표로 구분)",
            "_view_count": null,
            "_view_module_version": "1.5.0",
            "description_tooltip": null,
            "_model_module": "@jupyter-widgets/controls",
            "layout": "IPY_MODEL_244d60ab0d0c4d77a9e27d573c088d4b"
          }
        },
        "bdefe46a007b4d76a15d60ed519dafa4": {
          "model_module": "@jupyter-widgets/controls",
          "model_name": "HBoxModel",
          "state": {
            "_view_name": "HBoxView",
            "_dom_classes": [],
            "_model_name": "HBoxModel",
            "_view_module": "@jupyter-widgets/controls",
            "_model_module_version": "1.5.0",
            "_view_count": null,
            "_view_module_version": "1.5.0",
            "box_style": "",
            "layout": "IPY_MODEL_e32cae6dc6f84bdc969d4aba1224df34",
            "_model_module": "@jupyter-widgets/controls",
            "children": [
              "IPY_MODEL_11fb4597e2c1462da1917f0fee062ddc",
              "IPY_MODEL_59aebd531d22478b96aa9e9a1670b15b"
            ]
          }
        },
        "32e3043a38fc4c36a05a05ad32b71914": {
          "model_module": "@jupyter-widgets/controls",
          "model_name": "HTMLModel",
          "state": {
            "_view_name": "HTMLView",
            "style": "IPY_MODEL_cc05e15d579f4ac08b4e10d620defd7e",
            "_dom_classes": [],
            "description": "",
            "_model_name": "HTMLModel",
            "placeholder": "​",
            "_view_module": "@jupyter-widgets/controls",
            "_model_module_version": "1.5.0",
            "value": "",
            "_view_count": null,
            "_view_module_version": "1.5.0",
            "description_tooltip": null,
            "_model_module": "@jupyter-widgets/controls",
            "layout": "IPY_MODEL_058588cbb8c6402c9542a1f131990c63"
          }
        },
        "a582b00a88bc41e99389da8b6c88c18c": {
          "model_module": "@jupyter-widgets/controls",
          "model_name": "DescriptionStyleModel",
          "state": {
            "_view_name": "StyleView",
            "_model_name": "DescriptionStyleModel",
            "description_width": "",
            "_view_module": "@jupyter-widgets/base",
            "_model_module_version": "1.5.0",
            "_view_count": null,
            "_view_module_version": "1.2.0",
            "_model_module": "@jupyter-widgets/controls"
          }
        },
        "244d60ab0d0c4d77a9e27d573c088d4b": {
          "model_module": "@jupyter-widgets/base",
          "model_name": "LayoutModel",
          "state": {
            "_view_name": "LayoutView",
            "grid_template_rows": null,
            "right": null,
            "justify_content": null,
            "_view_module": "@jupyter-widgets/base",
            "overflow": null,
            "_model_module_version": "1.2.0",
            "_view_count": null,
            "flex_flow": null,
            "width": null,
            "min_width": null,
            "border": null,
            "align_items": null,
            "bottom": null,
            "_model_module": "@jupyter-widgets/base",
            "top": null,
            "grid_column": null,
            "overflow_y": null,
            "overflow_x": null,
            "grid_auto_flow": null,
            "grid_area": null,
            "grid_template_columns": null,
            "flex": null,
            "_model_name": "LayoutModel",
            "justify_items": null,
            "grid_row": null,
            "max_height": null,
            "align_content": null,
            "visibility": null,
            "align_self": null,
            "height": null,
            "min_height": null,
            "padding": null,
            "grid_auto_rows": null,
            "grid_gap": null,
            "max_width": null,
            "order": null,
            "_view_module_version": "1.2.0",
            "grid_template_areas": null,
            "object_position": null,
            "object_fit": null,
            "grid_auto_columns": null,
            "margin": null,
            "display": null,
            "left": null
          }
        },
        "e32cae6dc6f84bdc969d4aba1224df34": {
          "model_module": "@jupyter-widgets/base",
          "model_name": "LayoutModel",
          "state": {
            "_view_name": "LayoutView",
            "grid_template_rows": null,
            "right": null,
            "justify_content": null,
            "_view_module": "@jupyter-widgets/base",
            "overflow": null,
            "_model_module_version": "1.2.0",
            "_view_count": null,
            "flex_flow": null,
            "width": null,
            "min_width": null,
            "border": null,
            "align_items": null,
            "bottom": null,
            "_model_module": "@jupyter-widgets/base",
            "top": null,
            "grid_column": null,
            "overflow_y": null,
            "overflow_x": null,
            "grid_auto_flow": null,
            "grid_area": null,
            "grid_template_columns": null,
            "flex": null,
            "_model_name": "LayoutModel",
            "justify_items": null,
            "grid_row": null,
            "max_height": null,
            "align_content": null,
            "visibility": null,
            "align_self": null,
            "height": null,
            "min_height": null,
            "padding": null,
            "grid_auto_rows": null,
            "grid_gap": null,
            "max_width": null,
            "order": null,
            "_view_module_version": "1.2.0",
            "grid_template_areas": null,
            "object_position": null,
            "object_fit": null,
            "grid_auto_columns": null,
            "margin": null,
            "display": null,
            "left": null
          }
        },
        "11fb4597e2c1462da1917f0fee062ddc": {
          "model_module": "@jupyter-widgets/controls",
          "model_name": "TextModel",
          "state": {
            "_view_name": "TextView",
            "style": "IPY_MODEL_1b44564a4922460faea98b4dd980930a",
            "_dom_classes": [],
            "description": "",
            "_model_name": "TextModel",
            "placeholder": "예: HTML, CSS, JavaScript",
            "_view_module": "@jupyter-widgets/controls",
            "_model_module_version": "1.5.0",
            "value": "",
            "_view_count": null,
            "disabled": false,
            "_view_module_version": "1.5.0",
            "continuous_update": true,
            "description_tooltip": null,
            "_model_module": "@jupyter-widgets/controls",
            "layout": "IPY_MODEL_8e6bd2cbdf534b809d0afa16da70d259"
          }
        },
        "59aebd531d22478b96aa9e9a1670b15b": {
          "model_module": "@jupyter-widgets/controls",
          "model_name": "ButtonModel",
          "state": {
            "_view_name": "ButtonView",
            "style": "IPY_MODEL_f8e3263f8999445f96487e321330c88e",
            "_dom_classes": [],
            "description": "검색",
            "_model_name": "ButtonModel",
            "button_style": "",
            "_view_module": "@jupyter-widgets/controls",
            "_model_module_version": "1.5.0",
            "tooltip": "",
            "_view_count": null,
            "disabled": false,
            "_view_module_version": "1.5.0",
            "layout": "IPY_MODEL_dea13f3757e24b6d99c330922f94a0b8",
            "_model_module": "@jupyter-widgets/controls",
            "icon": ""
          }
        },
        "cc05e15d579f4ac08b4e10d620defd7e": {
          "model_module": "@jupyter-widgets/controls",
          "model_name": "DescriptionStyleModel",
          "state": {
            "_view_name": "StyleView",
            "_model_name": "DescriptionStyleModel",
            "description_width": "",
            "_view_module": "@jupyter-widgets/base",
            "_model_module_version": "1.5.0",
            "_view_count": null,
            "_view_module_version": "1.2.0",
            "_model_module": "@jupyter-widgets/controls"
          }
        },
        "058588cbb8c6402c9542a1f131990c63": {
          "model_module": "@jupyter-widgets/base",
          "model_name": "LayoutModel",
          "state": {
            "_view_name": "LayoutView",
            "grid_template_rows": null,
            "right": null,
            "justify_content": null,
            "_view_module": "@jupyter-widgets/base",
            "overflow": null,
            "_model_module_version": "1.2.0",
            "_view_count": null,
            "flex_flow": null,
            "width": null,
            "min_width": null,
            "border": null,
            "align_items": null,
            "bottom": null,
            "_model_module": "@jupyter-widgets/base",
            "top": null,
            "grid_column": null,
            "overflow_y": null,
            "overflow_x": null,
            "grid_auto_flow": null,
            "grid_area": null,
            "grid_template_columns": null,
            "flex": null,
            "_model_name": "LayoutModel",
            "justify_items": null,
            "grid_row": null,
            "max_height": null,
            "align_content": null,
            "visibility": null,
            "align_self": null,
            "height": null,
            "min_height": null,
            "padding": null,
            "grid_auto_rows": null,
            "grid_gap": null,
            "max_width": null,
            "order": null,
            "_view_module_version": "1.2.0",
            "grid_template_areas": null,
            "object_position": null,
            "object_fit": null,
            "grid_auto_columns": null,
            "margin": null,
            "display": null,
            "left": null
          }
        },
        "1b44564a4922460faea98b4dd980930a": {
          "model_module": "@jupyter-widgets/controls",
          "model_name": "DescriptionStyleModel",
          "state": {
            "_view_name": "StyleView",
            "_model_name": "DescriptionStyleModel",
            "description_width": "",
            "_view_module": "@jupyter-widgets/base",
            "_model_module_version": "1.5.0",
            "_view_count": null,
            "_view_module_version": "1.2.0",
            "_model_module": "@jupyter-widgets/controls"
          }
        },
        "8e6bd2cbdf534b809d0afa16da70d259": {
          "model_module": "@jupyter-widgets/base",
          "model_name": "LayoutModel",
          "state": {
            "_view_name": "LayoutView",
            "grid_template_rows": null,
            "right": null,
            "justify_content": null,
            "_view_module": "@jupyter-widgets/base",
            "overflow": null,
            "_model_module_version": "1.2.0",
            "_view_count": null,
            "flex_flow": null,
            "width": "50%",
            "min_width": null,
            "border": null,
            "align_items": null,
            "bottom": null,
            "_model_module": "@jupyter-widgets/base",
            "top": null,
            "grid_column": null,
            "overflow_y": null,
            "overflow_x": null,
            "grid_auto_flow": null,
            "grid_area": null,
            "grid_template_columns": null,
            "flex": null,
            "_model_name": "LayoutModel",
            "justify_items": null,
            "grid_row": null,
            "max_height": null,
            "align_content": null,
            "visibility": null,
            "align_self": null,
            "height": null,
            "min_height": null,
            "padding": null,
            "grid_auto_rows": null,
            "grid_gap": null,
            "max_width": null,
            "order": null,
            "_view_module_version": "1.2.0",
            "grid_template_areas": null,
            "object_position": null,
            "object_fit": null,
            "grid_auto_columns": null,
            "margin": null,
            "display": null,
            "left": null
          }
        },
        "f8e3263f8999445f96487e321330c88e": {
          "model_module": "@jupyter-widgets/controls",
          "model_name": "ButtonStyleModel",
          "state": {
            "_view_name": "StyleView",
            "_model_name": "ButtonStyleModel",
            "_view_module": "@jupyter-widgets/base",
            "_model_module_version": "1.5.0",
            "_view_count": null,
            "button_color": null,
            "font_weight": "",
            "_view_module_version": "1.2.0",
            "_model_module": "@jupyter-widgets/controls"
          }
        },
        "dea13f3757e24b6d99c330922f94a0b8": {
          "model_module": "@jupyter-widgets/base",
          "model_name": "LayoutModel",
          "state": {
            "_view_name": "LayoutView",
            "grid_template_rows": null,
            "right": null,
            "justify_content": null,
            "_view_module": "@jupyter-widgets/base",
            "overflow": null,
            "_model_module_version": "1.2.0",
            "_view_count": null,
            "flex_flow": null,
            "width": "10%",
            "min_width": null,
            "border": null,
            "align_items": null,
            "bottom": null,
            "_model_module": "@jupyter-widgets/base",
            "top": null,
            "grid_column": null,
            "overflow_y": null,
            "overflow_x": null,
            "grid_auto_flow": null,
            "grid_area": null,
            "grid_template_columns": null,
            "flex": null,
            "_model_name": "LayoutModel",
            "justify_items": null,
            "grid_row": null,
            "max_height": null,
            "align_content": null,
            "visibility": null,
            "align_self": null,
            "height": null,
            "min_height": null,
            "padding": null,
            "grid_auto_rows": null,
            "grid_gap": null,
            "max_width": null,
            "order": null,
            "_view_module_version": "1.2.0",
            "grid_template_areas": null,
            "object_position": null,
            "object_fit": null,
            "grid_auto_columns": null,
            "margin": null,
            "display": null,
            "left": null
          }
        }
      }
    }
  },
  "cells": [
    {
      "cell_type": "code",
      "metadata": {
        "id": "1I3NhX70WAtq"
      },
      "source": [
        "import word2vecmodel\n",
        "import preprocess\n",
        "import engine\n",
        "import visualize\n",
        "import pandas as pd"
      ],
      "execution_count": 1,
      "outputs": []
    },
    {
      "cell_type": "markdown",
      "metadata": {
        "id": "8WsNLSQ4dVV3"
      },
      "source": [
        "## 학습 및 모델 저장"
      ]
    },
    {
      "cell_type": "code",
      "metadata": {
        "id": "Lk2mBTA6WyI9"
      },
      "source": [
        "trainloader, dataset = preprocess.getTrainLoader()"
      ],
      "execution_count": 2,
      "outputs": []
    },
    {
      "cell_type": "code",
      "metadata": {
        "id": "TWTNOZRZYQCm"
      },
      "source": [
        "engine.train(trainloader)\n",
        "engine.save(\"/content/save\")"
      ],
      "execution_count": null,
      "outputs": []
    },
    {
      "cell_type": "markdown",
      "metadata": {
        "id": "praRK9C0mTZJ"
      },
      "source": [
        "## 태그 임베딩 모델 불러오기"
      ]
    },
    {
      "cell_type": "code",
      "metadata": {
        "id": "L7o4lrm4eusu"
      },
      "source": [
        "enc = engine.load(\"/content/save\")"
      ],
      "execution_count": 5,
      "outputs": []
    },
    {
      "cell_type": "markdown",
      "metadata": {
        "id": "16W_RwWAmKRZ"
      },
      "source": [
        "## 적합도 비교"
      ]
    },
    {
      "cell_type": "code",
      "metadata": {
        "id": "ai2KgwbTNN7u"
      },
      "source": [
        "jobkeywordlist = preprocess.getJobList()\n",
        "top_k = 30"
      ],
      "execution_count": 6,
      "outputs": []
    },
    {
      "cell_type": "code",
      "metadata": {
        "id": "WHveT7vjmFak"
      },
      "source": [
        "from sklearn.metrics.pairwise import cosine_similarity\n",
        "import pandas as pd\n",
        "\n",
        "def get_cosim(tag1, tag2):\n",
        "    tag1 = tag1.reshape(1, -1)\n",
        "    tag2 = tag2.reshape(1, -1)\n",
        "\n",
        "    return cosine_similarity(tag1, tag2)\n",
        "\n",
        "\n",
        "def cal_score(user_taglist):\n",
        "    jobidlist = preprocess.getJobList().ID.tolist()\n",
        "    job_scores = []\n",
        "    for jobid in jobidlist:  # job 하나\n",
        "        job_taglist = jobkeywordlist[jobkeywordlist['ID'] == jobid]['tags'].tolist()[0]\n",
        "        tag_scores = dict()\n",
        "\n",
        "        for job_tag in job_taglist:  # job의 tag 하나\n",
        "            embedded_jobtag = engine.tagembedding(job_tag)\n",
        "\n",
        "            for user_tag in user_taglist:  # user의 tag 하나\n",
        "                embedded_usertag = engine.tagembedding(user_tag)\n",
        "                cosim = get_cosim(embedded_jobtag, embedded_usertag)\n",
        "                score = 0\n",
        "                if cosim >= 0.999999: # HTML 같은 경우에 유사도가 0.999999 나옴\n",
        "                    score = 1\n",
        "                elif cosim > 0.9:\n",
        "                    score = 0.7\n",
        "\n",
        "                if score > 0:\n",
        "                    if job_tag in tag_scores:\n",
        "                        tag_scores[job_tag] = max(score, tag_scores[job_tag])\n",
        "                    else:\n",
        "                        tag_scores[job_tag] = score\n",
        "                    if score == 1:\n",
        "                        break\n",
        "\n",
        "        sum_scores = 0\n",
        "        for k, v in tag_scores.items():\n",
        "            sum_scores += v\n",
        "\n",
        "        job_scores.append(sum_scores / len(job_taglist))\n",
        "\n",
        "    job_score_pd = pd.DataFrame({'jobID': jobidlist,\n",
        "                                 'tags': jobkeywordlist[\"tags\"].tolist(),\n",
        "                                 'score': job_scores})\n",
        "\n",
        "    job_score_pd = job_score_pd.sort_values(by=['score'], axis=0, ascending=False)\n",
        "    job_score_pd.reset_index(drop=True, inplace=True)\n",
        "    return job_score_pd[:top_k]"
      ],
      "execution_count": 8,
      "outputs": []
    },
    {
      "cell_type": "markdown",
      "metadata": {
        "id": "bbtb0Jp8KYtx"
      },
      "source": [
        "##태그 유사도 시각화"
      ]
    },
    {
      "cell_type": "code",
      "metadata": {
        "colab": {
          "base_uri": "https://localhost:8080/",
          "height": 1000
        },
        "id": "cx_54XayJYtt",
        "outputId": "3b3fce86-a217-4ca0-e0b2-dcecadca652a"
      },
      "source": [
        "list1 = ['HTML', 'CSS', \"JavaScript\", 'jQuery']\n",
        "list2 = ['JavaScript', 'CSS', 'ReactJS', 'HTML', 'jQuery']\t\n",
        "visualize.visualize_eachtagbyTagList(list1, list2, config)"
      ],
      "execution_count": 9,
      "outputs": [
        {
          "output_type": "display_data",
          "data": {
            "image/png": "[encoded data removed]",
            "text/plain": [
              "<Figure size 432x288 with 2 Axes>"
            ]
          },
          "metadata": {
            "tags": [],
            "needs_background": "light"
          }
        },
        {
          "output_type": "display_data",
          "data": {
            "image/png": "[encoded data removed]",
            "text/plain": [
              "<Figure size 432x288 with 2 Axes>"
            ]
          },
          "metadata": {
            "tags": [],
            "needs_background": "light"
          }
        },
        {
          "output_type": "display_data",
          "data": {
            "image/png": "[encoded data removed]",
            "text/plain": [
              "<Figure size 432x288 with 2 Axes>"
            ]
          },
          "metadata": {
            "tags": [],
            "needs_background": "light"
          }
        },
        {
          "output_type": "display_data",
          "data": {
            "image/png": "[encoded data removed]",
            "text/plain": [
              "<Figure size 432x288 with 2 Axes>"
            ]
          },
          "metadata": {
            "tags": [],
            "needs_background": "light"
          }
        }
      ]
    },
    {
      "cell_type": "markdown",
      "metadata": {
        "id": "PAw0Cz3rp8un"
      },
      "source": [
        "## 테스트"
      ]
    },
    {
      "cell_type": "code",
      "metadata": {
        "colab": {
          "base_uri": "https://localhost:8080/",
          "height": 942
        },
        "id": "ZP-UuoZqa9Dz",
        "outputId": "a0d99f78-4b6d-4055-ddf5-3eb31fac47a1"
      },
      "source": [
        "cal_score(['HTML', 'CSS', \"JavaScript\", 'jQuery'])"
      ],
      "execution_count": 10,
      "outputs": [
        {
          "output_type": "execute_result",
          "data": {
            "text/html": [
              "<div>\n",
              "<style scoped>\n",
              "    .dataframe tbody tr th:only-of-type {\n",
              "        vertical-align: middle;\n",
              "    }\n",
              "\n",
              "    .dataframe tbody tr th {\n",
              "        vertical-align: top;\n",
              "    }\n",
              "\n",
              "    .dataframe thead th {\n",
              "        text-align: right;\n",
              "    }\n",
              "</style>\n",
              "<table border=\"1\" class=\"dataframe\">\n",
              "  <thead>\n",
              "    <tr style=\"text-align: right;\">\n",
              "      <th></th>\n",
              "      <th>jobID</th>\n",
              "      <th>tags</th>\n",
              "      <th>score</th>\n",
              "    </tr>\n",
              "  </thead>\n",
              "  <tbody>\n",
              "    <tr>\n",
              "      <th>0</th>\n",
              "      <td>5a4b25aaed25c2ee1b74de72dc03c14e</td>\n",
              "      <td>[CSS, HTML, jQuery, JavaScript]</td>\n",
              "      <td>1.000</td>\n",
              "    </tr>\n",
              "    <tr>\n",
              "      <th>1</th>\n",
              "      <td>84d2004bf28a2095230e8e14993d398d</td>\n",
              "      <td>[JavaScript, CSS, HTML]</td>\n",
              "      <td>1.000</td>\n",
              "    </tr>\n",
              "    <tr>\n",
              "      <th>2</th>\n",
              "      <td>63538fe6ef330c13a05a3ed7e599d5f7</td>\n",
              "      <td>[CSS, JavaScript, HTML]</td>\n",
              "      <td>1.000</td>\n",
              "    </tr>\n",
              "    <tr>\n",
              "      <th>3</th>\n",
              "      <td>fb89705ae6d743bf1e848c206e16a1d7</td>\n",
              "      <td>[JavaScript, HTML, CSS]</td>\n",
              "      <td>1.000</td>\n",
              "    </tr>\n",
              "    <tr>\n",
              "      <th>4</th>\n",
              "      <td>c042f4db68f23406c6cecf84a7ebb0fe</td>\n",
              "      <td>[HTML, CSS, JavaScript]</td>\n",
              "      <td>1.000</td>\n",
              "    </tr>\n",
              "    <tr>\n",
              "      <th>5</th>\n",
              "      <td>41f1f19176d383480afa65d325c06ed0</td>\n",
              "      <td>[JavaScript]</td>\n",
              "      <td>1.000</td>\n",
              "    </tr>\n",
              "    <tr>\n",
              "      <th>6</th>\n",
              "      <td>dc912a253d1e9ba40e2c597ed2376640</td>\n",
              "      <td>[CSS, JavaScript, HTML]</td>\n",
              "      <td>1.000</td>\n",
              "    </tr>\n",
              "    <tr>\n",
              "      <th>7</th>\n",
              "      <td>2b6d65b9a9445c4271ab9076ead5605a</td>\n",
              "      <td>[JavaScript, CSS, HTML]</td>\n",
              "      <td>1.000</td>\n",
              "    </tr>\n",
              "    <tr>\n",
              "      <th>8</th>\n",
              "      <td>286674e3082feb7e5afb92777e48821f</td>\n",
              "      <td>[HTML, JavaScript, CSS]</td>\n",
              "      <td>1.000</td>\n",
              "    </tr>\n",
              "    <tr>\n",
              "      <th>9</th>\n",
              "      <td>995665640dc319973d3173a74a03860c</td>\n",
              "      <td>[JavaScript, CSS, HTML]</td>\n",
              "      <td>1.000</td>\n",
              "    </tr>\n",
              "    <tr>\n",
              "      <th>10</th>\n",
              "      <td>f74909ace68e51891440e4da0b65a70c</td>\n",
              "      <td>[JavaScript]</td>\n",
              "      <td>1.000</td>\n",
              "    </tr>\n",
              "    <tr>\n",
              "      <th>11</th>\n",
              "      <td>ebd9629fc3ae5e9f6611e2ee05a31cef</td>\n",
              "      <td>[JavaScript, HTML]</td>\n",
              "      <td>1.000</td>\n",
              "    </tr>\n",
              "    <tr>\n",
              "      <th>12</th>\n",
              "      <td>32b30a250abd6331e03a2a1f16466346</td>\n",
              "      <td>[JavaScript, Angular, jQuery, HTML, CSS]</td>\n",
              "      <td>0.940</td>\n",
              "    </tr>\n",
              "    <tr>\n",
              "      <th>13</th>\n",
              "      <td>a8abb4bb284b5b27aa7cb790dc20f80b</td>\n",
              "      <td>[jQuery, Ajax, JavaScript, HTML, CSS]</td>\n",
              "      <td>0.940</td>\n",
              "    </tr>\n",
              "    <tr>\n",
              "      <th>14</th>\n",
              "      <td>c8ba76c279269b1c6bc8a07e38e78fa4</td>\n",
              "      <td>[JavaScript, CSS, ReactJS, HTML, jQuery]</td>\n",
              "      <td>0.940</td>\n",
              "    </tr>\n",
              "    <tr>\n",
              "      <th>15</th>\n",
              "      <td>5e388103a391daabe3de1d76a6739ccd</td>\n",
              "      <td>[HTML, JavaScript, CSS, jQuery, ASP.NET]</td>\n",
              "      <td>0.940</td>\n",
              "    </tr>\n",
              "    <tr>\n",
              "      <th>16</th>\n",
              "      <td>df877f3865752637daa540ea9cbc474f</td>\n",
              "      <td>[CSS, JavaScript, Python, HTML]</td>\n",
              "      <td>0.925</td>\n",
              "    </tr>\n",
              "    <tr>\n",
              "      <th>17</th>\n",
              "      <td>c86a7ee3d8ef0b551ed58e354a836f2b</td>\n",
              "      <td>[AngularJS, HTML, jQuery, JavaScript]</td>\n",
              "      <td>0.925</td>\n",
              "    </tr>\n",
              "    <tr>\n",
              "      <th>18</th>\n",
              "      <td>3871bd64012152bfb53fdf04b401193f</td>\n",
              "      <td>[CSS, JavaScript, React Native, HTML]</td>\n",
              "      <td>0.925</td>\n",
              "    </tr>\n",
              "    <tr>\n",
              "      <th>19</th>\n",
              "      <td>45645a27c4f1adc8a7a835976064a86d</td>\n",
              "      <td>[Node.js, CSS, JavaScript, HTML]</td>\n",
              "      <td>0.925</td>\n",
              "    </tr>\n",
              "    <tr>\n",
              "      <th>20</th>\n",
              "      <td>d240e3d38a8882ecad8633c8f9c78c9b</td>\n",
              "      <td>[HTML, JavaScript, Ruby on Rails, CSS]</td>\n",
              "      <td>0.925</td>\n",
              "    </tr>\n",
              "    <tr>\n",
              "      <th>21</th>\n",
              "      <td>1e6e0a04d20f50967c64dac2d639a577</td>\n",
              "      <td>[JavaScript, HTML, Ruby on Rails, CSS]</td>\n",
              "      <td>0.925</td>\n",
              "    </tr>\n",
              "    <tr>\n",
              "      <th>22</th>\n",
              "      <td>7b13b2203029ed80337f27127a9f1d28</td>\n",
              "      <td>[CSS, HTML, JavaScript, AngularJS]</td>\n",
              "      <td>0.925</td>\n",
              "    </tr>\n",
              "    <tr>\n",
              "      <th>23</th>\n",
              "      <td>6364d3f0f495b6ab9dcf8d3b5c6e0b01</td>\n",
              "      <td>[CSS, JavaScript, Node.js, HTML]</td>\n",
              "      <td>0.925</td>\n",
              "    </tr>\n",
              "    <tr>\n",
              "      <th>24</th>\n",
              "      <td>a284df1155ec3e67286080500df36a9a</td>\n",
              "      <td>[HTML, Ruby on Rails, CSS, JavaScript]</td>\n",
              "      <td>0.925</td>\n",
              "    </tr>\n",
              "    <tr>\n",
              "      <th>25</th>\n",
              "      <td>6cfe0e6127fa25df2a0ef2ae1067d915</td>\n",
              "      <td>[JavaScript, CSS, HTML, Ruby on Rails]</td>\n",
              "      <td>0.925</td>\n",
              "    </tr>\n",
              "    <tr>\n",
              "      <th>26</th>\n",
              "      <td>7501e5d4da87ac39d782741cd794002d</td>\n",
              "      <td>[JavaScript, CSS, HTML, ReactJS]</td>\n",
              "      <td>0.925</td>\n",
              "    </tr>\n",
              "    <tr>\n",
              "      <th>27</th>\n",
              "      <td>ae5e3ce40e0404a45ecacaaf05e5f735</td>\n",
              "      <td>[JavaScript, CSS, HTML, Vue.js]</td>\n",
              "      <td>0.925</td>\n",
              "    </tr>\n",
              "    <tr>\n",
              "      <th>28</th>\n",
              "      <td>ae0eb3eed39d2bcef4622b2499a05fe6</td>\n",
              "      <td>[JavaScript, HTML, MySQL]</td>\n",
              "      <td>0.900</td>\n",
              "    </tr>\n",
              "    <tr>\n",
              "      <th>29</th>\n",
              "      <td>8c6744c9d42ec2cb9e8885b54ff744d0</td>\n",
              "      <td>[AngularJS, JavaScript, jQuery]</td>\n",
              "      <td>0.900</td>\n",
              "    </tr>\n",
              "  </tbody>\n",
              "</table>\n",
              "</div>"
            ],
            "text/plain": [
              "                               jobID  ...  score\n",
              "0   5a4b25aaed25c2ee1b74de72dc03c14e  ...  1.000\n",
              "1   84d2004bf28a2095230e8e14993d398d  ...  1.000\n",
              "2   63538fe6ef330c13a05a3ed7e599d5f7  ...  1.000\n",
              "3   fb89705ae6d743bf1e848c206e16a1d7  ...  1.000\n",
              "4   c042f4db68f23406c6cecf84a7ebb0fe  ...  1.000\n",
              "5   41f1f19176d383480afa65d325c06ed0  ...  1.000\n",
              "6   dc912a253d1e9ba40e2c597ed2376640  ...  1.000\n",
              "7   2b6d65b9a9445c4271ab9076ead5605a  ...  1.000\n",
              "8   286674e3082feb7e5afb92777e48821f  ...  1.000\n",
              "9   995665640dc319973d3173a74a03860c  ...  1.000\n",
              "10  f74909ace68e51891440e4da0b65a70c  ...  1.000\n",
              "11  ebd9629fc3ae5e9f6611e2ee05a31cef  ...  1.000\n",
              "12  32b30a250abd6331e03a2a1f16466346  ...  0.940\n",
              "13  a8abb4bb284b5b27aa7cb790dc20f80b  ...  0.940\n",
              "14  c8ba76c279269b1c6bc8a07e38e78fa4  ...  0.940\n",
              "15  5e388103a391daabe3de1d76a6739ccd  ...  0.940\n",
              "16  df877f3865752637daa540ea9cbc474f  ...  0.925\n",
              "17  c86a7ee3d8ef0b551ed58e354a836f2b  ...  0.925\n",
              "18  3871bd64012152bfb53fdf04b401193f  ...  0.925\n",
              "19  45645a27c4f1adc8a7a835976064a86d  ...  0.925\n",
              "20  d240e3d38a8882ecad8633c8f9c78c9b  ...  0.925\n",
              "21  1e6e0a04d20f50967c64dac2d639a577  ...  0.925\n",
              "22  7b13b2203029ed80337f27127a9f1d28  ...  0.925\n",
              "23  6364d3f0f495b6ab9dcf8d3b5c6e0b01  ...  0.925\n",
              "24  a284df1155ec3e67286080500df36a9a  ...  0.925\n",
              "25  6cfe0e6127fa25df2a0ef2ae1067d915  ...  0.925\n",
              "26  7501e5d4da87ac39d782741cd794002d  ...  0.925\n",
              "27  ae5e3ce40e0404a45ecacaaf05e5f735  ...  0.925\n",
              "28  ae0eb3eed39d2bcef4622b2499a05fe6  ...  0.900\n",
              "29  8c6744c9d42ec2cb9e8885b54ff744d0  ...  0.900\n",
              "\n",
              "[30 rows x 3 columns]"
            ]
          },
          "metadata": {
            "tags": []
          },
          "execution_count": 10
        }
      ]
    },
    {
      "cell_type": "markdown",
      "metadata": {
        "id": "VnpNuRsAqBnS"
      },
      "source": [
        "## 테스트 with GUI"
      ]
    },
    {
      "cell_type": "code",
      "metadata": {
        "colab": {
          "base_uri": "https://localhost:8080/",
          "height": 85,
          "referenced_widgets": [
            "18a8ba07f0254ff6a84ff38baa5eae66",
            "09092908bd9f4355ad72b720150d14aa",
            "82662242f9054855956e305b75e340be",
            "bdefe46a007b4d76a15d60ed519dafa4",
            "32e3043a38fc4c36a05a05ad32b71914",
            "a582b00a88bc41e99389da8b6c88c18c",
            "244d60ab0d0c4d77a9e27d573c088d4b",
            "e32cae6dc6f84bdc969d4aba1224df34",
            "11fb4597e2c1462da1917f0fee062ddc",
            "59aebd531d22478b96aa9e9a1670b15b",
            "cc05e15d579f4ac08b4e10d620defd7e",
            "058588cbb8c6402c9542a1f131990c63",
            "1b44564a4922460faea98b4dd980930a",
            "8e6bd2cbdf534b809d0afa16da70d259",
            "f8e3263f8999445f96487e321330c88e",
            "dea13f3757e24b6d99c330922f94a0b8"
          ]
        },
        "id": "NjFp1Botp_9V",
        "outputId": "4fcf3e0e-c98e-47d9-9175-7eda95229c8e"
      },
      "source": [
        "import ipywidgets as widgets\n",
        "\n",
        "desc = widgets.Label(value='기술 스택 (쉼표로 구분)')\n",
        "tags_input = widgets.Text(\n",
        "    value='',\n",
        "    placeholder='예: HTML, CSS, JavaScript',\n",
        "    description='',\n",
        "    disabled=False,\n",
        "    layout=widgets.Layout(width='50%')\n",
        ")\n",
        "search_button = widgets.Button(\n",
        "    description='검색',\n",
        "    layout=widgets.Layout(width='10%'))\n",
        "input_with_button = widgets.HBox([tags_input, search_button])\n",
        "output_html = widgets.HTML(\n",
        "    value=\"\"\n",
        ")\n",
        "display(widgets.VBox([desc, input_with_button, output_html]))\n",
        "\n",
        "def search(b):\n",
        "    tags_input_ed = [x.strip() for x in tags_input.value.split(',')]\n",
        "    styles = [\n",
        "        {'selector':'td', 'props':[('padding', '10px'), ('vertical-align', 'top'), ('border-bottom', '1px solid #ccc'), ('background', '#eee')\n",
        "         ]}, \n",
        "        {'selector':'th', 'props':[('padding', '10px'), ('font-weight', 'bold'), ('vertical-align', 'top'), ('color', '#fff'), ('background', '#ce4869')]}\n",
        "    ]\n",
        "    output_html.value = cal_score(tags_input_ed).style.set_table_styles(styles).render()\n",
        "    # print(cal_score(tags_input_ed).to_html(notebook=True))\n",
        "\n",
        "search_button.on_click(search)"
      ],
      "execution_count": 11,
      "outputs": [
        {
          "output_type": "display_data",
          "data": {
            "application/vnd.jupyter.widget-view+json": {
              "model_id": "18a8ba07f0254ff6a84ff38baa5eae66",
              "version_minor": 0,
              "version_major": 2
            },
            "text/plain": [
              "VBox(children=(Label(value='기술 스택 (쉼표로 구분)'), HBox(children=(Text(value='', layout=Layout(width='50%'), placeh…"
            ]
          },
          "metadata": {
            "tags": []
          }
        }
      ]
    }
  ]
}